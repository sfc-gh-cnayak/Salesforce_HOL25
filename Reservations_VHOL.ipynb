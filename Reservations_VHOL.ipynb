{
 "cells": [
  {
   "cell_type": "code",
   "execution_count": null,
   "id": "3775908f-ca36-4846-8f38-5adca39217f2",
   "metadata": {
    "collapsed": false,
    "language": "python",
    "name": "cell1",
    "resultHeight": 0
   },
   "outputs": [],
   "source": [
    "# Import python packages\n",
    "import pandas as pd \n",
    "\n",
    "# We can also use Snowpark for our analyses!\n",
    "from snowflake.snowpark.context import get_active_session\n",
    "from snowflake.ml.modeling.linear_model import LinearRegression\n",
    "from snowflake.ml.modeling.linear_model import LogisticRegression\n",
    "from snowflake.ml.registry import Registry \n",
    "from snowflake.snowpark.functions import col, lit, sum \n",
    "import warnings\n",
    "warnings.filterwarnings(\"ignore\")\n",
    "session = get_active_session() \n"
   ]
  },
  {
   "cell_type": "code",
   "execution_count": null,
   "id": "0e3a06e9-221d-430e-9b97-7dd601ce9dc9",
   "metadata": {
    "collapsed": false,
    "language": "python",
    "name": "cell4",
    "resultHeight": 0
   },
   "outputs": [],
   "source": [
    "reservations_df = session.table(\"RESERVATIONS\")\n",
    "reservations_df.show();"
   ]
  },
  {
   "cell_type": "code",
   "execution_count": null,
   "id": "8d50cbf4-0c8d-4950-86cb-114990437ac9",
   "metadata": {
    "collapsed": false,
    "language": "python",
    "name": "cell2",
    "resultHeight": 0
   },
   "outputs": [],
   "source": [
    "reserve_df_booking_channel = reservations_df.group_by(\"BOOKING_CHANNEL\").agg(sum(\"TOTAL_PRICE\")).with_column_renamed(\"SUM(TOTAL_PRICE)\",\"Revenue\")\n",
    "reserve_df_booking_channel.show(10)"
   ]
  },
  {
   "cell_type": "code",
   "execution_count": null,
   "id": "0b77340c-0776-4e58-953b-bd11dd906f6c",
   "metadata": {
    "collapsed": false,
    "language": "python",
    "name": "cell6",
    "resultHeight": 0
   },
   "outputs": [],
   "source": [
    "train_sdf = reservations_df.drop('RESERVATION_ID','RESERVATION_STATUS','CHECK_IN_DATE','CHECK_OUT_DATE','CONTACT_ID','CREATION_DATE','PAYMENT_STATUS','ROOM_NUMBER','TAXES_AND_FEES','FEEDBACK_VAL')\n",
    "train_sdf.show()\n"
   ]
  },
  {
   "cell_type": "code",
   "execution_count": null,
   "id": "39db5956-539a-4c7e-8eba-0189410a49af",
   "metadata": {
    "collapsed": false,
    "language": "python",
    "name": "cell7",
    "resultHeight": 0
   },
   "outputs": [],
   "source": [
    "train_df, test_df = train_sdf.random_split(weights=[0.8,0.2], seed=0)"
   ]
  },
  {
   "cell_type": "code",
   "execution_count": null,
   "id": "7a586c95-1ae4-4323-8b2a-e4e2d0246bfb",
   "metadata": {
    "collapsed": false,
    "language": "python",
    "name": "cell5",
    "resultHeight": 0
   },
   "outputs": [],
   "source": [
    "from snowflake.ml.modeling.pipeline import Pipeline\n",
    "from snowflake.ml.modeling.compose import ColumnTransformer\n",
    "from snowflake.ml.modeling.model_selection import GridSearchCV\n",
    "from snowflake.ml.modeling.preprocessing import PolynomialFeatures, StandardScaler \n",
    "CROSS_VALIDATION_FOLDS = 10\n",
    "POLYNOMIAL_FEATURES_DEGREE = 2\n",
    "numeric_features = ['NUMBER_OF_ADULTS','NUMBER_OF_CHILDREN']\n",
    "numeric_transformer = Pipeline(steps=[('poly',PolynomialFeatures(degree = POLYNOMIAL_FEATURES_DEGREE)),('scaler', StandardScaler())])\n",
    "\n",
    "# Combine the preprocessed step together using the Column Transformer module\n",
    "preprocessor = ColumnTransformer(\n",
    "    transformers=[\n",
    "        ('num', numeric_transformer, numeric_features)])\n",
    "\n",
    "# The next step is the integrate the features we just preprocessed with our Machine Learning algorithm to enable us to build a model\n",
    "pipeline = Pipeline(steps=[('preprocessor', preprocessor),('classifier', LinearRegression())])\n",
    "parameteres = {}\n",
    "\n",
    "# Use GridSearch to find the best fitting model based on number_of_folds folds\n",
    "model = GridSearchCV(\n",
    "    estimator=pipeline,\n",
    "    param_grid=parameteres,\n",
    "    cv=CROSS_VALIDATION_FOLDS,\n",
    "    label_cols=[\"TOTAL_PRICE\"],\n",
    "    output_cols=[\"PREDICTED_REVENUE\"],\n",
    "    verbose=2\n",
    ")\n",
    "\n",
    "# Fit and Score\n",
    "model.fit(train_df)\n",
    "train_r2_score = model.score(train_df)\n",
    "test_r2_score = model.score(test_df)\n",
    "\n",
    "# R2 score on train and test datasets\n",
    "print(f\"R2 score on Train : {train_r2_score}\")\n",
    "print(f\"R2 score on Test  : {test_r2_score}\")"
   ]
  },
  {
   "cell_type": "code",
   "execution_count": null,
   "id": "62fe8480-b50d-4e72-a26b-ee5b5b2d2314",
   "metadata": {
    "collapsed": false,
    "language": "python",
    "name": "cell8",
    "resultHeight": 0
   },
   "outputs": [],
   "source": [
    "registry = Registry(session)\n",
    "MODEL_NAME = \"PREDICT_ROI\""
   ]
  },
  {
   "cell_type": "code",
   "execution_count": null,
   "id": "c695373e-ac74-4b62-a1f1-08206cbd5c81",
   "metadata": {
    "collapsed": false,
    "language": "python",
    "name": "cell3",
    "resultHeight": 0
   },
   "outputs": [],
   "source": [
    "mv = registry.log_model(model,\n",
    "                        model_name=MODEL_NAME,\n",
    "                        metrics={\"R2_train\": train_r2_score, \"R2_test\":test_r2_score},\n",
    "                        comment='Model pipeline to predict revenue',\n",
    "                        options={\"embed_local_ml_library\": True, \"relax_version\":False}\n",
    "                    )"
   ]
  },
  {
   "cell_type": "code",
   "execution_count": null,
   "id": "365772cb-8b65-4345-9149-26e4ded543bd",
   "metadata": {
    "collapsed": false,
    "language": "python",
    "name": "cell9",
    "resultHeight": 0
   },
   "outputs": [],
   "source": [
    "registry.show_models()"
   ]
  },
  {
   "cell_type": "code",
   "execution_count": null,
   "id": "77c0c69e-23da-46ff-97e3-ff5952092e93",
   "metadata": {
    "collapsed": false,
    "language": "python",
    "name": "Predict_for_Features_Phone",
    "resultHeight": 0
   },
   "outputs": [],
   "source": [
    "# Predicting the revenue for a new reservation\n",
    "# We can use the model to predict the revenue for a new reservation\n",
    "test_df = session.create_dataframe([['Phone',4,4,'Standard Rate','Deluxe','None']],schema= ['BOOKING_CHANNEL','NUMBER_OF_ADULTS','NUMBER_OF_CHILDREN','RATE_PLAN','ROOM_TYPE','SPECIAL_REQUESTS'])\n",
    "mv.run(test_df,function_name='predict').show()"
   ]
  }
 ],
 "metadata": {
  "kernelspec": {
   "display_name": "Streamlit Notebook",
   "name": "streamlit"
  },
  "lastEditStatus": {
   "authorEmail": "chandra.nayak@snowflake.com",
   "authorId": "73240009950",
   "authorName": "ADMIN",
   "lastEditTime": 1746309314628,
   "notebookId": "oqim6hpqhy633eu24tvt",
   "sessionId": "07429777-4845-41fd-a20f-a76300f7f18c"
  }
 },
 "nbformat": 4,
 "nbformat_minor": 5
}
